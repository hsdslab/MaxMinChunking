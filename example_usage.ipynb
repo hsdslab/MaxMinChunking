{
  "nbformat": 4,
  "nbformat_minor": 0,
  "metadata": {
    "colab": {
      "provenance": [],
      "gpuType": "T4"
    },
    "kernelspec": {
      "name": "python3",
      "display_name": "Python 3"
    },
    "language_info": {
      "name": "python"
    },
    "accelerator": "GPU"
  },
  "cells": [
    {
      "cell_type": "code",
      "execution_count": 27,
      "metadata": {
        "colab": {
          "base_uri": "https://localhost:8080/"
        },
        "id": "ybf3k6Qy10Yc",
        "outputId": "ea736050-20c6-44e9-c56c-f588651305e9"
      },
      "outputs": [
        {
          "output_type": "stream",
          "name": "stderr",
          "text": [
            "[nltk_data] Downloading package punkt to /root/nltk_data...\n",
            "[nltk_data]   Package punkt is already up-to-date!\n"
          ]
        }
      ],
      "source": [
        "import numpy as np\n",
        "\n",
        "# Import the maxmin chunker function\n",
        "from maxmin_chunker import process_sentences\n",
        "\n",
        "# NLTK for splitting text into sentences\n",
        "import nltk\n",
        "nltk.download('punkt')\n",
        "\n",
        "# BGE model for text embedding using Langchain and HuggingFace\n",
        "from langchain_huggingface.embeddings import HuggingFaceEmbeddings\n",
        "\n",
        "# Configuration for the embedding model\n",
        "model_name = \"BAAI/bge-base-en-v1.5\"\n",
        "model_kwargs = {'device': 'cuda'}\n",
        "encode_kwargs = {'normalize_embeddings': False}\n",
        "\n",
        "# Initialize HuggingFace Embeddings\n",
        "hf = HuggingFaceEmbeddings(\n",
        "    model_name=model_name,\n",
        "    model_kwargs=model_kwargs,\n",
        "    encode_kwargs=encode_kwargs\n",
        ")\n"
      ]
    },
    {
      "cell_type": "code",
      "source": [
        "# Sample text for testing\n",
        "text = \"\"\"\n",
        "Once upon a time in a small village nestled between rolling hills, there lived a young girl named Anna. She was known for her kindness and her love for adventure. Every morning, she would wake up at dawn and wander into the forest behind her house. One day, while exploring, she stumbled upon an old, mysterious book hidden beneath a willow tree. The book was bound in leather, with pages that seemed to whisper secrets when turned. Intrigued, Anna opened the book to find it filled with tales of a hidden world beneath the village.\n",
        "\n",
        "Curiosity got the better of her, and she decided to follow the map drawn on the last page. The map led her to a cave obscured by vines, which she had never noticed before. With a lantern in hand, she ventured inside, the walls echoing with the sounds of dripping water. Deep within the cave, she found a shimmering lake, its waters reflecting light in a way that seemed magical. By the lake's edge, there sat an ancient stone pedestal on which lay a crystal key.\n",
        "\n",
        "Anna picked up the key, and suddenly, the water of the lake parted, revealing a staircase leading downwards. She descended into the depths, her heart pounding with excitement and fear. The staircase ended in a vast underground city, lit by bioluminescent plants. The city was silent, abandoned, but beautiful, with buildings carved from crystal and stone.\n",
        "\n",
        "As she walked through the streets, she met an old man who claimed to be the last guardian of this hidden world. He told her about the city's past glory and how it was sealed away to protect its magic from the greed of mankind. He explained that Anna was chosen by the book to potentially reopen the city to the world above. But he warned her of the consequences, explaining the balance between secrecy and sharing.\n",
        "\n",
        "Anna spent days learning from the guardian, understanding the magic and history of this place. She learned to control the elements, to speak with the earth, and to heal with the water from the lake. After much contemplation, she decided the world needed to know of this place, but with caution. She returned to the surface, carrying with her not just the key, but also the wisdom to protect this secret city.\n",
        "\n",
        "With the guardian's blessing, Anna began to share the stories and lessons of the underground world, teaching others about balance and respect for nature. Over time, the village became a sanctuary where magic and science coexisted, all thanks to a young girl's curiosity and bravery.\n",
        "\"\"\""
      ],
      "metadata": {
        "id": "1DLBNdDm2nlb"
      },
      "execution_count": 28,
      "outputs": []
    },
    {
      "cell_type": "code",
      "source": [
        "# Split text into sentences\n",
        "sentences = nltk.sent_tokenize(text)\n",
        "\n",
        "# Generate embeddings for each sentence\n",
        "embeddings = np.array(hf.embed_documents(sentences))\n",
        "\n",
        "# Apply maxmin chunking to create paragraphs\n",
        "paragraphs = process_sentences(sentences, embeddings)"
      ],
      "metadata": {
        "id": "W2996_N_3R8b"
      },
      "execution_count": 29,
      "outputs": []
    },
    {
      "cell_type": "code",
      "source": [
        "# Print the paragraphs\n",
        "for paragraph in paragraphs:\n",
        "    print('\\n'.join(paragraph))\n",
        "    print('-' * 60)"
      ],
      "metadata": {
        "colab": {
          "base_uri": "https://localhost:8080/"
        },
        "id": "W2a03X_t3wyk",
        "outputId": "1db13f67-023c-4543-bd31-de5a6d96f90b"
      },
      "execution_count": 30,
      "outputs": [
        {
          "output_type": "stream",
          "name": "stdout",
          "text": [
            "\n",
            "Once upon a time in a small village nestled between rolling hills, there lived a young girl named Anna.\n",
            "She was known for her kindness and her love for adventure.\n",
            "------------------------------------------------------------\n",
            "Every morning, she would wake up at dawn and wander into the forest behind her house.\n",
            "One day, while exploring, she stumbled upon an old, mysterious book hidden beneath a willow tree.\n",
            "The book was bound in leather, with pages that seemed to whisper secrets when turned.\n",
            "Intrigued, Anna opened the book to find it filled with tales of a hidden world beneath the village.\n",
            "Curiosity got the better of her, and she decided to follow the map drawn on the last page.\n",
            "The map led her to a cave obscured by vines, which she had never noticed before.\n",
            "------------------------------------------------------------\n",
            "With a lantern in hand, she ventured inside, the walls echoing with the sounds of dripping water.\n",
            "Deep within the cave, she found a shimmering lake, its waters reflecting light in a way that seemed magical.\n",
            "By the lake's edge, there sat an ancient stone pedestal on which lay a crystal key.\n",
            "------------------------------------------------------------\n",
            "Anna picked up the key, and suddenly, the water of the lake parted, revealing a staircase leading downwards.\n",
            "She descended into the depths, her heart pounding with excitement and fear.\n",
            "------------------------------------------------------------\n",
            "The staircase ended in a vast underground city, lit by bioluminescent plants.\n",
            "The city was silent, abandoned, but beautiful, with buildings carved from crystal and stone.\n",
            "------------------------------------------------------------\n",
            "As she walked through the streets, she met an old man who claimed to be the last guardian of this hidden world.\n",
            "He told her about the city's past glory and how it was sealed away to protect its magic from the greed of mankind.\n",
            "He explained that Anna was chosen by the book to potentially reopen the city to the world above.\n",
            "But he warned her of the consequences, explaining the balance between secrecy and sharing.\n",
            "Anna spent days learning from the guardian, understanding the magic and history of this place.\n",
            "She learned to control the elements, to speak with the earth, and to heal with the water from the lake.\n",
            "After much contemplation, she decided the world needed to know of this place, but with caution.\n",
            "She returned to the surface, carrying with her not just the key, but also the wisdom to protect this secret city.\n",
            "With the guardian's blessing, Anna began to share the stories and lessons of the underground world, teaching others about balance and respect for nature.\n",
            "Over time, the village became a sanctuary where magic and science coexisted, all thanks to a young girl's curiosity and bravery.\n",
            "------------------------------------------------------------\n"
          ]
        }
      ]
    },
    {
      "cell_type": "code",
      "source": [],
      "metadata": {
        "id": "RNDBLNjg3yFL"
      },
      "execution_count": 30,
      "outputs": []
    }
  ]
}
